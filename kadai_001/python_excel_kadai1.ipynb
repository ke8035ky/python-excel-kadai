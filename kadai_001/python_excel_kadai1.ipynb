{
  "nbformat": 4,
  "nbformat_minor": 0,
  "metadata": {
    "colab": {
      "provenance": []
    },
    "kernelspec": {
      "name": "python3",
      "display_name": "Python 3"
    },
    "language_info": {
      "name": "python"
    }
  },
  "cells": [
    {
      "cell_type": "code",
      "source": [
        "import openpyxl\n",
        "\n",
        "workbook = openpyxl.Workbook()\n",
        "\n",
        "# 新規ワークブックを作成\n",
        "workbook = openpyxl.Workbook()\n",
        "\n",
        "# アクティブなシートを取得し変数wsに格納\n",
        "ws = workbook.active\n",
        "\n",
        "# 固定文字列の書き込み\n",
        "\n",
        "ws['B2'] = '請求書'\n",
        "ws['F4'] = 'No'\n",
        "ws['F5'] = '日付'\n",
        "\n",
        "header1 = ['商品名', '数量', '単価', '金額']\n",
        "for i in range(0, 4):\n",
        "    ws.cell(row=10, column=i+2, value= header1[i])\n",
        "\n",
        "header2 = ['合計', '消費税', '税込合計']\n",
        "for i in range(0, 3):\n",
        "    ws.cell(row=i+15, column=2, value= header2[i])\n",
        "\n",
        "# 毎回変わる文字列をdata1～data4に入力\n",
        "data1 = [\"株式会社ABC\",\n",
        "         \"〒101-0022 東京都千代田区神田練塀町300\",\n",
        "         \"TEL:03-1234-5678 FAX:03-1234-5678\",\n",
        "         \"担当者名:鈴木一郎 様\"]\n",
        "\n",
        "data2 = \"0001\"\n",
        "\n",
        "import datetime\n",
        "today = datetime.date.today()\n",
        "data3 = today.strftime('%Y/%m/%d')\n",
        "\n",
        "data4 = [\n",
        "    [\"商品A\", 2, 10000, 20000],\n",
        "    [\"商品B\", 1, 15000, 15000]\n",
        "]\n",
        "\n",
        "#data1の書き込み\n",
        "for i in range(0, 4):\n",
        "    ws.cell(row=i+4, column=2, value= data1[i])\n",
        "\n",
        "#data2の書き込み\n",
        "ws.cell(row=4, column=7, value= data2)\n",
        "\n",
        "#data3の書き込み\n",
        "ws.cell(row=5, column=7, value= data3)\n",
        "\n",
        "#data4の書き込み\n",
        "for i in range(0, 2):\n",
        "  for j in range(0, 4):\n",
        "    ws.cell(row=i+11, column=j+2, value= data4[i][j])\n",
        "\n",
        "# 金額の合計\n",
        "data5 = data4[0][3] +  data4[1][3]\n",
        "\n",
        "# 合計の書き込み\n",
        "ws.cell(row=13, column=5, value= data5)\n",
        "\n",
        "#消費税\n",
        "data6 = data5 * 0.1\n",
        "\n",
        "#税込合計\n",
        "data7 = data5 + data6\n",
        "\n",
        "data8 = [data5, data6, data7]\n",
        "for i in range(0, 3):\n",
        "    ws.cell(row=i+15, column=5, value= data8[i])\n",
        "\n",
        "# ワークブックを保存\n",
        "today2 = today.strftime('%Y%m%d')\n",
        "workbook.save(f'請求書{today2}.xlsx')"
      ],
      "metadata": {
        "id": "V5Jz2Prrmgm3"
      },
      "execution_count": 1,
      "outputs": []
    },
    {
      "cell_type": "code",
      "source": [],
      "metadata": {
        "id": "VPFAwd05rYyN"
      },
      "execution_count": null,
      "outputs": []
    }
  ]
}