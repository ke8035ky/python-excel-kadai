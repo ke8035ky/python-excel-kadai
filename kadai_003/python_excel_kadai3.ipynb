{
  "nbformat": 4,
  "nbformat_minor": 0,
  "metadata": {
    "colab": {
      "provenance": []
    },
    "kernelspec": {
      "name": "python3",
      "display_name": "Python 3"
    },
    "language_info": {
      "name": "python"
    }
  },
  "cells": [
    {
      "cell_type": "code",
      "execution_count": null,
      "metadata": {
        "id": "jbnOhb6emE7s"
      },
      "outputs": [],
      "source": [
        "import pandas as pd\n",
        "\n",
        "# Excelファイルを読み込む\n",
        "df = pd.read_excel('2022_年間売上表.xlsx','2023_年間売上表.xlsx')\n",
        "\n",
        "# 結合後のデータを格納するための空のデータフレームを作成\n",
        "df = pd.DataFrame()"
      ]
    },
    {
      "cell_type": "code",
      "source": [
        "!pip install openpyxl==3.1.0"
      ],
      "metadata": {
        "colab": {
          "base_uri": "https://localhost:8080/",
          "height": 319
        },
        "id": "OF4jceV-o02q",
        "outputId": "5075730d-dacf-4595-d362-ada4f96f7e3a"
      },
      "execution_count": 3,
      "outputs": [
        {
          "output_type": "stream",
          "name": "stdout",
          "text": [
            "Collecting openpyxl==3.1.0\n",
            "  Downloading openpyxl-3.1.0-py2.py3-none-any.whl.metadata (2.5 kB)\n",
            "Requirement already satisfied: et-xmlfile in /usr/local/lib/python3.11/dist-packages (from openpyxl==3.1.0) (2.0.0)\n",
            "Downloading openpyxl-3.1.0-py2.py3-none-any.whl (250 kB)\n",
            "\u001b[2K   \u001b[90m━━━━━━━━━━━━━━━━━━━━━━━━━━━━━━━━━━━━━━━━\u001b[0m \u001b[32m250.0/250.0 kB\u001b[0m \u001b[31m2.7 MB/s\u001b[0m eta \u001b[36m0:00:00\u001b[0m\n",
            "\u001b[?25hInstalling collected packages: openpyxl\n",
            "  Attempting uninstall: openpyxl\n",
            "    Found existing installation: openpyxl 3.0.10\n",
            "    Uninstalling openpyxl-3.0.10:\n",
            "      Successfully uninstalled openpyxl-3.0.10\n",
            "Successfully installed openpyxl-3.1.0\n"
          ]
        },
        {
          "output_type": "display_data",
          "data": {
            "application/vnd.colab-display-data+json": {
              "pip_warning": {
                "packages": [
                  "openpyxl"
                ]
              },
              "id": "19802bb0ab4d40528ea1b15bbba39d81"
            }
          },
          "metadata": {}
        }
      ]
    },
    {
      "cell_type": "code",
      "source": [
        "import pandas as pd\n",
        "import openpyxl\n",
        "\n",
        "# 処理対象のファイル名のリストを格納\n",
        "file_list = ['2022_年間売上表.xlsx', '2023_年間売上表.xlsx']\n",
        "\n",
        "# 結合後のデータを格納するための空のデータフレームを作成\n",
        "df = pd.DataFrame()\n",
        "\n",
        "# ファイルを一つずつ処理する\n",
        "for file_name in file_list:\n",
        "    # Excelファイルを読み込む\n",
        "    temp_df = pd.read_excel(file_name, header=0)\n",
        "\n",
        "    # データフレームの列名を指定\n",
        "    temp_df.columns = ['商品', '売上年', '金額（千円）']\n",
        "    # temp_df.columns = ['売上年', '商品', '金額（千円）']\n",
        "\n",
        "    # concat()でデータフレームを連結\n",
        "    df = pd.concat([df, temp_df], ignore_index=True)\n",
        "\n",
        "print(df)\n",
        "\n",
        "# 商品ごとに売上金額と売上コストを合計\n",
        "grouped = df.groupby(['商品','売上年']).agg({'金額（千円）': 'sum'})\n",
        "\n",
        "# Excelファイルを作成する\n",
        "writer = pd.ExcelWriter('売上集計表.xlsx')\n",
        "\n",
        "# DataFrameオブジェクトをExcelファイルに書き込む\n",
        "grouped.to_excel(writer, sheet_name='sheet1', index=True)\n",
        "\n",
        "print(grouped)\n",
        "\n",
        "# openpyxl.stylesモジュールのPatternFillクラスをインポート\n",
        "from openpyxl.styles import PatternFill\n",
        "\n",
        "# ワークブックを作成\n",
        "workbook = openpyxl.Workbook()\n",
        "\n",
        "# アクティブなシートを変数「sheet」に格納\n",
        "sheet = workbook.active\n",
        "\n",
        "# A1セルの背景色を赤色（#FF0000）に設定\n",
        "sheet['A1'].fill = PatternFill(patternType='solid', fgColor='F2F2F2')\n",
        "\n",
        "#workbook.save('売上集計表.xlsx')\n",
        "\n",
        "\n"
      ],
      "metadata": {
        "colab": {
          "base_uri": "https://localhost:8080/"
        },
        "id": "oPQC75jmoAEK",
        "outputId": "212a610a-81d5-4305-98a2-590ba3ea14cc"
      },
      "execution_count": 15,
      "outputs": [
        {
          "output_type": "stream",
          "name": "stdout",
          "text": [
            "      商品       売上年  金額（千円）\n",
            "0   2022        紅茶    1200\n",
            "1   2022      ハチミツ    1000\n",
            "2   2022      セッケン    1300\n",
            "3   2022        紅茶     800\n",
            "4   2022  アロマキャンドル     900\n",
            "5   2022      ハチミツ     300\n",
            "6   2022      ハチミツ     560\n",
            "7   2022    ワイングラス     850\n",
            "8   2022  アロマキャンドル     810\n",
            "9   2022        包丁     940\n",
            "10  2022        水筒    1150\n",
            "11  2023        紅茶    1200\n",
            "12  2023      ハチミツ    1000\n",
            "13  2023        水筒     250\n",
            "14  2023     コーヒー豆     860\n",
            "15  2023      セッケン    1300\n",
            "16  2023        紅茶     670\n",
            "17  2023  アロマキャンドル     900\n",
            "18  2023    ワイングラス     850\n",
            "19  2023        包丁     940\n",
            "20  2023     フライパン     670\n",
            "21  2023        水筒    1150\n",
            "               金額（千円）\n",
            "商品   売上年             \n",
            "2022 アロマキャンドル    1710\n",
            "     セッケン        1300\n",
            "     ハチミツ        1860\n",
            "     ワイングラス       850\n",
            "     包丁           940\n",
            "     水筒          1150\n",
            "     紅茶          2000\n",
            "2023 アロマキャンドル     900\n",
            "     コーヒー豆        860\n",
            "     セッケン        1300\n",
            "     ハチミツ        1000\n",
            "     フライパン        670\n",
            "     ワイングラス       850\n",
            "     包丁           940\n",
            "     水筒          1400\n",
            "     紅茶          1870\n"
          ]
        }
      ]
    },
    {
      "cell_type": "code",
      "source": [
        "import pandas as pd\n",
        "import openpyxl\n",
        "\n",
        "# 処理対象のファイル名のリストを格納\n",
        "file_list = ['2022_年間売上表.xlsx', '2023_年間売上表.xlsx']\n",
        "\n",
        "# 結合後のデータを格納するための空のデータフレームを作成\n",
        "df = pd.DataFrame()\n",
        "\n",
        "# ファイルを一つずつ処理する\n",
        "for file_name in file_list:\n",
        "    # Excelファイルを読み込む\n",
        "    temp_df = pd.read_excel(file_name, header=0)\n",
        "\n",
        "    # concat()でデータフレームを連結\n",
        "    df = pd.concat([df, temp_df], ignore_index=True)\n",
        "\n",
        "print(df)\n",
        "\n",
        "# 商品ごとに売上金額と売上コストを合計\n",
        "grouped = df.groupby(['商品','売上年']).agg({'金額（千円）': 'sum'})\n",
        "# データフレームの列名を指定\n",
        "grouped = grouped.reset_index()\n",
        "grouped.columns = ['商品', '売上年', '金額（千円）']\n",
        "\n",
        "# Excelファイルを作成する\n",
        "writer = pd.ExcelWriter('売上集計表.xlsx')\n",
        "\n",
        "# DataFrameオブジェクトをExcelファイルに書き込む\n",
        "grouped.to_excel(writer, sheet_name='sheet1', index=False)\n",
        "\n",
        "print(grouped)\n",
        "\n",
        "writer.close()"
      ],
      "metadata": {
        "colab": {
          "base_uri": "https://localhost:8080/"
        },
        "id": "Nbu__GPFyxNY",
        "outputId": "58d8c983-ca51-4075-89e3-64ac92f22fb6"
      },
      "execution_count": 32,
      "outputs": [
        {
          "output_type": "stream",
          "name": "stdout",
          "text": [
            "     売上年        商品  金額（千円）\n",
            "0   2022        紅茶    1200\n",
            "1   2022      ハチミツ    1000\n",
            "2   2022      セッケン    1300\n",
            "3   2022        紅茶     800\n",
            "4   2022  アロマキャンドル     900\n",
            "5   2022      ハチミツ     300\n",
            "6   2022      ハチミツ     560\n",
            "7   2022    ワイングラス     850\n",
            "8   2022  アロマキャンドル     810\n",
            "9   2022        包丁     940\n",
            "10  2022        水筒    1150\n",
            "11  2023        紅茶    1200\n",
            "12  2023      ハチミツ    1000\n",
            "13  2023        水筒     250\n",
            "14  2023     コーヒー豆     860\n",
            "15  2023      セッケン    1300\n",
            "16  2023        紅茶     670\n",
            "17  2023  アロマキャンドル     900\n",
            "18  2023    ワイングラス     850\n",
            "19  2023        包丁     940\n",
            "20  2023     フライパン     670\n",
            "21  2023        水筒    1150\n",
            "          商品   売上年  金額（千円）\n",
            "0   アロマキャンドル  2022    1710\n",
            "1   アロマキャンドル  2023     900\n",
            "2      コーヒー豆  2023     860\n",
            "3       セッケン  2022    1300\n",
            "4       セッケン  2023    1300\n",
            "5       ハチミツ  2022    1860\n",
            "6       ハチミツ  2023    1000\n",
            "7      フライパン  2023     670\n",
            "8     ワイングラス  2022     850\n",
            "9     ワイングラス  2023     850\n",
            "10        包丁  2022     940\n",
            "11        包丁  2023     940\n",
            "12        水筒  2022    1150\n",
            "13        水筒  2023    1400\n",
            "14        紅茶  2022    2000\n",
            "15        紅茶  2023    1870\n"
          ]
        }
      ]
    },
    {
      "cell_type": "code",
      "source": [
        "import pandas as pd\n",
        "import openpyxl\n",
        "\n",
        "# 処理対象のファイル名のリストを格納\n",
        "file_list = ['2022_年間売上表.xlsx', '2023_年間売上表.xlsx']\n",
        "\n",
        "# 結合後のデータを格納するための空のデータフレームを作成\n",
        "df = pd.DataFrame()\n",
        "\n",
        "# ファイルを一つずつ処理する\n",
        "for file_name in file_list:\n",
        "    # Excelファイルを読み込む\n",
        "    temp_df = pd.read_excel(file_name, header=0)\n",
        "\n",
        "    # concat()でデータフレームを連結\n",
        "    df = pd.concat([df, temp_df], ignore_index=True)\n",
        "\n",
        "print(df)\n",
        "\n",
        "# 商品ごとに売上金額と売上コストを合計\n",
        "grouped = df.groupby(['商品','売上年']).agg({'金額（千円）': 'sum'})\n",
        "# データフレームの列名を指定\n",
        "grouped = grouped.reset_index()\n",
        "grouped.columns = ['商品', '売上年', '金額（千円）']\n",
        "\n",
        "print(grouped)\n",
        "\n",
        "# Excelファイルを作成する\n",
        "writer = pd.ExcelWriter('売上集計表.xlsx')\n",
        "\n",
        "# DataFrameオブジェクトをExcelファイルに書き込む\n",
        "grouped.to_excel(writer, sheet_name='sheet1', index=False)\n",
        "\n",
        "writer.close()\n",
        "\n",
        "# openpyxl.stylesモジュールのPatternFillクラスをインポート\n",
        "from openpyxl.styles import PatternFill\n",
        "from openpyxl import load_workbook\n",
        "\n",
        "wb = load_workbook('売上集計表.xlsx')\n",
        "ws = wb['sheet1']\n",
        "\n",
        "# 背景色を薄いグレ－に設定\n",
        "gray_fill = PatternFill(patternType='solid', fgColor='F2F2F2')\n",
        "\n",
        "# ヘッダー行（1行目）のセルすべてに塗りつぶしを適用\n",
        "for cell in ws[1]:\n",
        "    cell.fill = gray_fill\n",
        "\n",
        "wb.save('売上集計表.xlsx')"
      ],
      "metadata": {
        "colab": {
          "base_uri": "https://localhost:8080/"
        },
        "id": "HS-QW2Zr_-0q",
        "outputId": "7df00ec3-728d-466e-8086-ab2b4e7fae98"
      },
      "execution_count": 43,
      "outputs": [
        {
          "output_type": "stream",
          "name": "stdout",
          "text": [
            "     売上年        商品  金額（千円）\n",
            "0   2022        紅茶    1200\n",
            "1   2022      ハチミツ    1000\n",
            "2   2022      セッケン    1300\n",
            "3   2022        紅茶     800\n",
            "4   2022  アロマキャンドル     900\n",
            "5   2022      ハチミツ     300\n",
            "6   2022      ハチミツ     560\n",
            "7   2022    ワイングラス     850\n",
            "8   2022  アロマキャンドル     810\n",
            "9   2022        包丁     940\n",
            "10  2022        水筒    1150\n",
            "11  2023        紅茶    1200\n",
            "12  2023      ハチミツ    1000\n",
            "13  2023        水筒     250\n",
            "14  2023     コーヒー豆     860\n",
            "15  2023      セッケン    1300\n",
            "16  2023        紅茶     670\n",
            "17  2023  アロマキャンドル     900\n",
            "18  2023    ワイングラス     850\n",
            "19  2023        包丁     940\n",
            "20  2023     フライパン     670\n",
            "21  2023        水筒    1150\n",
            "          商品   売上年  金額（千円）\n",
            "0   アロマキャンドル  2022    1710\n",
            "1   アロマキャンドル  2023     900\n",
            "2      コーヒー豆  2023     860\n",
            "3       セッケン  2022    1300\n",
            "4       セッケン  2023    1300\n",
            "5       ハチミツ  2022    1860\n",
            "6       ハチミツ  2023    1000\n",
            "7      フライパン  2023     670\n",
            "8     ワイングラス  2022     850\n",
            "9     ワイングラス  2023     850\n",
            "10        包丁  2022     940\n",
            "11        包丁  2023     940\n",
            "12        水筒  2022    1150\n",
            "13        水筒  2023    1400\n",
            "14        紅茶  2022    2000\n",
            "15        紅茶  2023    1870\n"
          ]
        }
      ]
    }
  ]
}